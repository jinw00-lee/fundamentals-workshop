{
 "cells": [
  {
   "cell_type": "markdown",
   "id": "9f572a2d",
   "metadata": {},
   "source": [
    "---\n",
    "title: \"Python fundamental\"\n",
    "author: \"Eshin Jolly\"\n",
    "date: \"Sept 22, 2025\"\n",
    "---\n"
   ]
  },
  {
   "cell_type": "markdown",
   "id": "d11833b1",
   "metadata": {},
   "source": []
  },
  {
   "cell_type": "markdown",
   "id": "0979786d",
   "metadata": {},
   "source": [
    "## 1. Meet the Python Notebook\n",
    "\n",
    "Welcome to the absolute basics tutorial for Python!\n",
    "\n",
    "This file is called a [Python/Jupyter Notebook](https://jupyter.org/): an _interactive_ way to write Python code and prose together in a single file.\n",
    "\n",
    "Notebooks are one of the most popular ways to use Python for data analysis and data-science. A notebook consists of separate **cells** that demarcate blocks of text or code. The two main types of cells you create are:\n",
    "\n",
    "1. Code cell: contains Python you want to execute\n",
    "2. [Markdown](https://www.markdownguide.org/cheat-sheet/) cell: contains prose that you want to render (like _this_ cell)\n"
   ]
  },
  {
   "cell_type": "markdown",
   "id": "36e231f0",
   "metadata": {},
   "source": [
    "You can move between cells using the arrow keys on your keyboard and you can **execute** a cell by using the keyboard-shortcut `shift+enter` or `ctrl+enter`\n",
    "\n",
    "Try selecting the next cell by pressing `down` and then execute it by pressing `shift+enter`. You should see some output generated _below_ the cell.\n"
   ]
  },
  {
   "cell_type": "code",
   "execution_count": null,
   "id": "14a724b9",
   "metadata": {},
   "outputs": [],
   "source": [
    "print(\"You ran me!\")"
   ]
  },
  {
   "cell_type": "markdown",
   "id": "6c36c289",
   "metadata": {},
   "source": [
    "To instead **edit** the contents of cell just press `enter`. You can press `escape` to exit editing mode.\n",
    "\n",
    "Try that on the next cell by changing the text inside of quotes to something else and then execute it:\n"
   ]
  },
  {
   "cell_type": "code",
   "execution_count": null,
   "id": "e94b4733",
   "metadata": {},
   "outputs": [],
   "source": [
    "print(\"Change me!\")"
   ]
  },
  {
   "cell_type": "markdown",
   "id": "3c3a0dda",
   "metadata": {},
   "source": [
    "You can make new cells above or below an existing one using the \"+\" button in the toolbar, searching in the command palette, or using a keyboard shortcut `a` for above, `b` for below` when you're not editing a cell.\n",
    "\n",
    "Try making a new cell below this one and then copy and paste the contents of the previous cell into it and execute it\n"
   ]
  },
  {
   "cell_type": "markdown",
   "id": "4e4dc717",
   "metadata": {},
   "source": [
    "## Recap\n",
    "\n",
    "- One of the primary ways to work with Python interactively is to use **notebooks** like this one'\n",
    "- Notebooks contain code and prose cells and their execution outputs all in a single file\n",
    "- We primary work with notebooks by\n",
    "  - Make a new cell\n",
    "  - Write Python (or markdown/text) inside of it\n",
    "  - Execute the cell to get the output\n",
    "\n",
    "---\n"
   ]
  },
  {
   "cell_type": "markdown",
   "id": "d68f0269",
   "metadata": {},
   "source": [
    "## 2. Python basics\n",
    "\n",
    "Let's cover some Python basics to help you get going fast.\n",
    "\n",
    "For more detailed tutorials we highly recommend checking out the links at the bottom of this notebook!\n"
   ]
  },
  {
   "cell_type": "markdown",
   "id": "d73372dc",
   "metadata": {},
   "source": [
    "Python is a modern interpreted programming _language_ that is incredibly popular because it looks more like English that most other programming languages.\n",
    "\n",
    "Just like English, in Python we write statements that can do a variety of things:\n",
    "\n",
    "- create **Variables** which store different values\n",
    "- create **Functions** which are little recipes to turn inputs into outputs\n",
    "- create **Logic** that does different things depending on conditions we check\n",
    "- create **Loops** to repeat bits of logic over-and-over\n",
    "\n",
    "Let's look at each of these in turn.\n",
    "\n",
    "In the examples below, you'll notice that some lines are prefixed with `#` and appear in a different color.  \n",
    "These are called code _comments_, which are ignored by Python and useful for providing short explanations inline.  \n",
    "You can also \"comment-out code\" which just means to prefix the like with `#` effectively _disabling_ that line during execution.\n"
   ]
  },
  {
   "cell_type": "markdown",
   "id": "3nddux7265r",
   "metadata": {},
   "source": [
    "### 2.1 Variables\n",
    "\n",
    "Variables are names we give to values so we can remember and use them later.\n"
   ]
  },
  {
   "cell_type": "code",
   "execution_count": null,
   "id": "cirhemwez5",
   "metadata": {},
   "outputs": [],
   "source": [
    "# Assign a value to a variable\n",
    "name = \"penguin\"\n",
    "age = 5\n",
    "weight = 3.2\n",
    "\n",
    "# Just typing the name of the variable with print it's value out\n",
    "name\n",
    "age\n",
    "weight"
   ]
  },
  {
   "cell_type": "markdown",
   "id": "2k7ko2pkdgy",
   "metadata": {},
   "source": [
    "You can see that variables can be of different _types_ depending on the values we want to store. The most common ones are:\n",
    "\n",
    "- Numbers (integers or decimals/floats)\n",
    "- Text (strings of letters)\n",
    "- Boolean (true or false)\n"
   ]
  },
  {
   "cell_type": "code",
   "execution_count": null,
   "id": "f5lcnematqv",
   "metadata": {},
   "outputs": [],
   "source": [
    "# Numbers\n",
    "integer_number = 42  # whole numbers\n",
    "decimal_number = 3.14  # decimal numbers (called 'float')"
   ]
  },
  {
   "cell_type": "code",
   "execution_count": null,
   "id": "c250376d",
   "metadata": {},
   "outputs": [],
   "source": [
    "# Text (strings)\n",
    "species = \"human\"  # use single or double quotes for text\n",
    "letter = \"H\""
   ]
  },
  {
   "cell_type": "code",
   "execution_count": null,
   "id": "157ce9f5",
   "metadata": {},
   "outputs": [],
   "source": [
    "# Boolean (True/False)\n",
    "is_cute = True\n",
    "can_fly = False"
   ]
  },
  {
   "cell_type": "markdown",
   "id": "903dc971",
   "metadata": {},
   "source": [
    "**Important**\n",
    "\n",
    "In this note book we're separating our code into different _cells_, but any variables we define are avaialble to _all_ cells.  \n",
    "In other words, code-cells provide _visual_ separation while we work, but to Python all code in the notebook is part of the _same_ session.\n"
   ]
  },
  {
   "cell_type": "code",
   "execution_count": null,
   "id": "083f85ae",
   "metadata": {},
   "outputs": [],
   "source": [
    "# We defined species above but can use it anywhere!\n",
    "print(species)"
   ]
  },
  {
   "cell_type": "markdown",
   "id": "eysok9yat1g",
   "metadata": {},
   "source": [
    "#### Basic operations between variables\n",
    "\n",
    "After we define variables we can use them in a variety of ways.\n",
    "\n",
    "The simplest operations are just basic calculator-like-arithmetic:\n"
   ]
  },
  {
   "cell_type": "code",
   "execution_count": null,
   "id": "g4mwgdxvra7",
   "metadata": {},
   "outputs": [],
   "source": [
    "# Math operations\n",
    "a = 10\n",
    "b = 3\n",
    "\n",
    "a + b  # addition\n",
    "a - b  # subtraction\n",
    "a * b  # multiplication\n",
    "a / b  # division\n",
    "a**b  # power (10 to the power of 3)\n",
    "a % b  # remainder (10 divided by 3 has remainder 1)"
   ]
  },
  {
   "cell_type": "markdown",
   "id": "45964123",
   "metadata": {},
   "source": [
    "What's neat is that Python can also use these operations on Text (strings)!\n"
   ]
  },
  {
   "cell_type": "code",
   "execution_count": null,
   "id": "yojkayvwpdi",
   "metadata": {},
   "outputs": [],
   "source": [
    "# String operations\n",
    "first_name = \"Emperor\"\n",
    "last_name = \"Penguin\"\n",
    "\n",
    "# Combine strings (concatenation)\n",
    "full_name = first_name + \" \" + last_name\n",
    "full_name"
   ]
  },
  {
   "cell_type": "code",
   "execution_count": null,
   "id": "40cacd42",
   "metadata": {},
   "outputs": [],
   "source": [
    "# Repeat strings\n",
    "cheer = \"Go! \" * 3\n",
    "cheer"
   ]
  },
  {
   "cell_type": "markdown",
   "id": "d602b282",
   "metadata": {},
   "source": [
    "Trying making a few cells below this one and playing with some basic operations\n"
   ]
  },
  {
   "cell_type": "code",
   "execution_count": null,
   "id": "e9d6d418",
   "metadata": {},
   "outputs": [],
   "source": [
    "# Your code here"
   ]
  },
  {
   "cell_type": "code",
   "execution_count": null,
   "id": "778c1ed5",
   "metadata": {},
   "outputs": [],
   "source": [
    "# Your code here"
   ]
  },
  {
   "cell_type": "code",
   "execution_count": null,
   "id": "aa8286cc",
   "metadata": {},
   "outputs": [],
   "source": [
    "# Your code here"
   ]
  },
  {
   "cell_type": "markdown",
   "id": "4dfmyaxf10j",
   "metadata": {},
   "source": [
    "### 2.2 Functions\n",
    "\n",
    "Functions in Python are little recipes that we can reuse. Function do the following:\n",
    "\n",
    "- take some variables as _input_ (arguments; optional)\n",
    "- perform some operations\n",
    "- return new variables as _output_ (return values; optional)\n"
   ]
  },
  {
   "cell_type": "code",
   "execution_count": null,
   "id": "0juydb0fzw4p",
   "metadata": {},
   "outputs": [],
   "source": [
    "# Create a variable\n",
    "word = \"Psychology\"\n",
    "\n",
    "# Check it's length using the len() function\n",
    "number_of_chars = len(word)\n",
    "number_of_chars"
   ]
  },
  {
   "cell_type": "markdown",
   "id": "c1119a9d",
   "metadata": {},
   "source": [
    "In the example above, we passed the variable `word` to the function `len` and it returned a value counting the number of letters in the word.\n",
    "\n",
    "But functions don't _have to_ return anything. Sometimes they are just useful for producing some _effect_ like saving a file or printing something to the screen.\n",
    "\n",
    "In fact that's exactly what the `print` we saw at the beginning does!\n"
   ]
  },
  {
   "cell_type": "code",
   "execution_count": null,
   "id": "870a89ad",
   "metadata": {},
   "outputs": [],
   "source": [
    "text_to_print = \"Hello World\"\n",
    "\n",
    "output = print(text_to_print)"
   ]
  },
  {
   "cell_type": "markdown",
   "id": "02bb4e14",
   "metadata": {},
   "source": [
    "If we check the value of `output` we'll see it's empty because `print` doesn't return anything.  \n",
    "It just produces an _effect_ of displaying text.\n"
   ]
  },
  {
   "cell_type": "code",
   "execution_count": null,
   "id": "2366c3db",
   "metadata": {},
   "outputs": [],
   "source": [
    "output"
   ]
  },
  {
   "cell_type": "markdown",
   "id": "6b8apcz66mh",
   "metadata": {},
   "source": [
    "#### Creating your own functions\n",
    "\n",
    "You can make your own functions using the `def` keyword in the following way\n"
   ]
  },
  {
   "cell_type": "code",
   "execution_count": null,
   "id": "fd82f9c1",
   "metadata": {},
   "outputs": [],
   "source": [
    "def add(a, b):\n",
    "    return a + b"
   ]
  },
  {
   "cell_type": "markdown",
   "id": "6b861ae7",
   "metadata": {},
   "source": [
    "Here we create a new function called `add` that accepts 2 arguments `a` and `b` and returns their sum\n",
    "\n",
    "Then we can use it like any other function:\n"
   ]
  },
  {
   "cell_type": "code",
   "execution_count": null,
   "id": "044eaf45",
   "metadata": {},
   "outputs": [],
   "source": [
    "add(1, 2)"
   ]
  },
  {
   "cell_type": "markdown",
   "id": "e9d036c5",
   "metadata": {},
   "source": [
    "Try creating you own function called `greet` that accepts a `name` as input and returns \"Hello \" and the name.\n",
    "\n",
    "You can edit the function definition the cell below and then execute the cell to see if it works\n"
   ]
  },
  {
   "cell_type": "code",
   "execution_count": null,
   "id": "eh4rh8ppfqr",
   "metadata": {},
   "outputs": [],
   "source": [
    "# Edit me!\n",
    "def greet():\n",
    "    pass\n",
    "\n",
    "\n",
    "# Use the function\n",
    "message = greet(\"Goofy\")\n",
    "print(message)"
   ]
  },
  {
   "cell_type": "markdown",
   "id": "5423cc58",
   "metadata": {},
   "source": [
    "Functions also don't _have to_ take any input. You can simple use them to encapsulate some code you want to run over and over again.\n"
   ]
  },
  {
   "cell_type": "code",
   "execution_count": null,
   "id": "1b339b3e",
   "metadata": {},
   "outputs": [],
   "source": [
    "# define the function\n",
    "def print_hello_goodbye():\n",
    "    print(\"hello\")\n",
    "    print(\"goodbye\")\n",
    "\n",
    "\n",
    "# Run the function no inputs or outputs!\n",
    "print_hello_goodbye()"
   ]
  },
  {
   "cell_type": "markdown",
   "id": "c0e7e471",
   "metadata": {},
   "source": [
    "### 2.3 Logic\n",
    "\n",
    "Python has special _keywords_ that allow us to control our logic with conditional statements: `if`, `elif`, and `else`.\n",
    "\n",
    "We _indent_ our code to use them like this:\n",
    "\n",
    "```\n",
    "if condition:\n",
    "  do_something\n",
    "elif other_condition:\n",
    "  do_something_else\n",
    "else:\n",
    "  otherwise_do_this\n",
    "```\n"
   ]
  },
  {
   "cell_type": "markdown",
   "id": "6dbd5ac1",
   "metadata": {},
   "source": [
    "Each keyword expects `condition` or `other_condition` to be a _boolean_ variable, i.e. `True` or `False`.\n",
    "\n",
    "We can create these using **comparison operations** between variables.  \n",
    "These are just like the basic operations (e.g. `+`, `-`), but instead _compare_ values and return `True/False`\n"
   ]
  },
  {
   "cell_type": "code",
   "execution_count": null,
   "id": "9fec7d50",
   "metadata": {},
   "outputs": [],
   "source": [
    "# Define variables\n",
    "a = 10\n",
    "b = 20\n",
    "\n",
    "# Compare them\n",
    "a < b"
   ]
  },
  {
   "cell_type": "markdown",
   "id": "3717f9f6",
   "metadata": {},
   "source": [
    "#### Comparison operations\n"
   ]
  },
  {
   "cell_type": "markdown",
   "id": "22a46f5d",
   "metadata": {},
   "source": [
    "These are the comparison operators you'll use most often:\n"
   ]
  },
  {
   "cell_type": "code",
   "execution_count": null,
   "id": "de49425b",
   "metadata": {},
   "outputs": [],
   "source": [
    "a == b  # equals\n",
    "a != b  # not equals\n",
    "a < b  # less than\n",
    "a <= b  # less than or equal\n",
    "a > b  # greater than\n",
    "a >= b  # greater than or equal"
   ]
  },
  {
   "cell_type": "markdown",
   "id": "372d4fe3",
   "metadata": {},
   "source": [
    "One special comparison operator is `is` which you can use to compare to the special `None` type.\n",
    "\n",
    "Remember how `print` doesn't return anything? Let's check using `is`\n"
   ]
  },
  {
   "cell_type": "code",
   "execution_count": null,
   "id": "1e721b74",
   "metadata": {},
   "outputs": [],
   "source": [
    "output = print(\"hello\")\n",
    "\n",
    "output is None"
   ]
  },
  {
   "cell_type": "markdown",
   "id": "1731644a",
   "metadata": {},
   "source": [
    "Let's see how to use these with the `if/elif/else` keywords.\n",
    "\n",
    "Execute the cell below to see what it prints. Then try changing the `name` variable and rexecuting the cell to see what happens.\n"
   ]
  },
  {
   "cell_type": "code",
   "execution_count": null,
   "id": "d8c3e008",
   "metadata": {},
   "outputs": [],
   "source": [
    "# Define a variable\n",
    "name = \"Eshin\"\n",
    "\n",
    "# Check it's value and do different stuff\n",
    "if name == \"Eshin\":\n",
    "    print(\"Your role is assistant professor\")\n",
    "else:\n",
    "    print(\"I'm not sure what your role is...\")"
   ]
  },
  {
   "cell_type": "markdown",
   "id": "f5716637",
   "metadata": {},
   "source": [
    "Above we use `==` to compare the value of the variable `name` to the string `\"Eshin\"` and change what we do if it's `True` vs `False`\n",
    "\n",
    "We can also _combine_ comparisons using `and`, `or`, `not` for more complex conditional statements.\n",
    "\n",
    "Below, try playing with `guest_name` and `guest_age` and rerunning the cell to understand what's happening:\n"
   ]
  },
  {
   "cell_type": "code",
   "execution_count": null,
   "id": "362d3058",
   "metadata": {},
   "outputs": [],
   "source": [
    "guest_name = \"Goofy\"\n",
    "guest_age = 18\n",
    "\n",
    "if guest_age >= 21 and guest_name != \"Pluto\":\n",
    "    print(\"Welcome to Mickey's restaurant!\")\n",
    "else:\n",
    "    print(\"Sorry you can't enter\")\n"
   ]
  },
  {
   "cell_type": "markdown",
   "id": "630766b6",
   "metadata": {},
   "source": [
    "`and`, `or`, and `not` behave as your intuition might suggest: they combine multiple `True/False` statements into a single more complex statement\n"
   ]
  },
  {
   "cell_type": "code",
   "execution_count": null,
   "id": "89d90f08",
   "metadata": {},
   "outputs": [],
   "source": [
    "# Define some variables\n",
    "a = 2\n",
    "b = -1\n",
    "\n",
    "a < 5\n",
    "not a < 5  # negates the check\n",
    "\n",
    "a < 5 and b > 0  # checks that BOTH are True\n",
    "a < 5 or b > 0  # checks that EITHER is True\n",
    "\n",
    "# We can use parentheses to group more complicated statements\n",
    "(a < 5 and b > 0) or (a < 3)"
   ]
  },
  {
   "cell_type": "markdown",
   "id": "514f92bd",
   "metadata": {},
   "source": [
    "Here's an example where we combine what learned about defining our own **functions** with some conditional **logic**:\n"
   ]
  },
  {
   "cell_type": "code",
   "execution_count": null,
   "id": "d3333877",
   "metadata": {},
   "outputs": [],
   "source": [
    "# We're just defining the function in this cell so it doesn't return or print anything\n",
    "# it just makes subtract_bigger() available to the rest of the cells in the notebook\n",
    "\n",
    "\n",
    "def subtract_bigger(a, b):\n",
    "    \"\"\"Always subtracts the smaller number from the bigger number\"\"\"\n",
    "    if a > b:\n",
    "        return a - b\n",
    "    elif b > a:\n",
    "        return b - a"
   ]
  },
  {
   "cell_type": "code",
   "execution_count": null,
   "id": "911fa6dc",
   "metadata": {},
   "outputs": [],
   "source": [
    "# 4 - 3 = 1\n",
    "subtract_bigger(4, 3)\n",
    "\n",
    "# Same!\n",
    "subtract_bigger(3, 4)"
   ]
  },
  {
   "cell_type": "markdown",
   "id": "29b54412",
   "metadata": {},
   "source": [
    "In the next cell we've passed 2 numbers that are the _same_ to `subtract_bigger`, but our function _silently fails..._ Nothing is returned from the output.\n",
    "\n",
    "Can you update the **logic** in the function to handle this? The function should return 0\n",
    "\n",
    "_Remember to re-execute the cell containing the function definition after editing it!_\n"
   ]
  },
  {
   "cell_type": "code",
   "execution_count": null,
   "id": "32cd7efa",
   "metadata": {},
   "outputs": [],
   "source": [
    "subtract_bigger(4, 4)"
   ]
  },
  {
   "cell_type": "markdown",
   "id": "4f71d37a",
   "metadata": {},
   "source": [
    "## Recap\n",
    "\n",
    "Try using the next few cells to play the with concepts you've learned so far:\n",
    "\n",
    "- defining variables\n",
    "- using basic operations\n",
    "- using comparison operations\n",
    "- using functions\n",
    "- creating functions\n",
    "- using logic\n"
   ]
  },
  {
   "cell_type": "code",
   "execution_count": null,
   "id": "17edec8f",
   "metadata": {},
   "outputs": [],
   "source": [
    "# Your code here"
   ]
  },
  {
   "cell_type": "code",
   "execution_count": null,
   "id": "ca91ecb6",
   "metadata": {},
   "outputs": [],
   "source": [
    "# Your code here"
   ]
  },
  {
   "cell_type": "code",
   "execution_count": null,
   "id": "198ed6a4",
   "metadata": {},
   "outputs": [],
   "source": [
    "# Your code here"
   ]
  },
  {
   "cell_type": "markdown",
   "id": "d89cbc1e",
   "metadata": {},
   "source": [
    "## 3. Beyond strings and numbers\n",
    "\n",
    "Most often you'll be using Python _multiple_ variables at once, e.g. a list of participant IDs, or stimuli names.\n",
    "\n",
    "Python has a few built-in types of \"containers\" that make it easy to store _multiple variables together_\n"
   ]
  },
  {
   "cell_type": "markdown",
   "id": "8527a71c",
   "metadata": {},
   "source": [
    "### 3.1 Lists\n",
    "\n",
    "Lists are the simplest, and most flexible way to multiple variables **based on their order**.\n",
    "\n",
    "We create lists using square brackets `[]`\n"
   ]
  },
  {
   "cell_type": "code",
   "execution_count": null,
   "id": "mp5wwdntkcj",
   "metadata": {},
   "outputs": [],
   "source": [
    "# Create a list\n",
    "species = [\"Adelie\", \"Gentoo\", \"Chinstrap\"]\n",
    "\n",
    "# Look at it's value\n",
    "species\n",
    "\n",
    "# Use the len function to check it's length\n",
    "len(species)"
   ]
  },
  {
   "cell_type": "markdown",
   "id": "0facb977",
   "metadata": {},
   "source": [
    "To get specific value(s) from a list we _index_ it using square brackets `[]` and the _numerical position_ of the item we want.\n",
    "\n",
    "**Important**  \n",
    "While it may not make much sense now, Python and many other programming languages start counting at `0` _not_ at `1`.  \n",
    "This is known as \"zero-based-indexing\" and actually turns out to be very convenient for many operations.  \n",
    "It will take a little getting used to, but just remember that the:\n",
    "\n",
    "- first-item, 0th position\n",
    "- second-item, 1st position\n",
    "- third-item, 2nd position...\n",
    "\n",
    "Let's get the first item in the list:\n"
   ]
  },
  {
   "cell_type": "code",
   "execution_count": null,
   "id": "6a2c874c",
   "metadata": {},
   "outputs": [],
   "source": [
    "species[0]"
   ]
  },
  {
   "cell_type": "markdown",
   "id": "0075cafa",
   "metadata": {},
   "source": [
    "Or the second item\n"
   ]
  },
  {
   "cell_type": "code",
   "execution_count": null,
   "id": "69b09d9d",
   "metadata": {},
   "outputs": [],
   "source": [
    "species[1]"
   ]
  },
  {
   "cell_type": "markdown",
   "id": "11e761f4",
   "metadata": {},
   "source": [
    "Python also let's using _negative_ positions which counts _backwards_ from the last item in reverse order\n"
   ]
  },
  {
   "cell_type": "code",
   "execution_count": null,
   "id": "114be382",
   "metadata": {},
   "outputs": [],
   "source": [
    "species[-1]  # last item"
   ]
  },
  {
   "cell_type": "markdown",
   "id": "56639649",
   "metadata": {},
   "source": [
    "This is much easier that trying to get the last item of a list by first counting it's length to figure out how many items it has, e.g.\n"
   ]
  },
  {
   "cell_type": "code",
   "execution_count": null,
   "id": "e58141fb",
   "metadata": {},
   "outputs": [],
   "source": [
    "species[len(species) - 1]"
   ]
  },
  {
   "cell_type": "markdown",
   "id": "f48fd8aa",
   "metadata": {},
   "source": [
    "We can also grab _multiple_ values by _slicing_ a list.  \n",
    "We provide a range of values we'd like and then get back a smaller list with those values.  \n",
    "We use the following format:\n",
    "\n",
    "`start:stop:step`\n",
    "\n",
    "- `start`\n",
    "  - where to begin\n",
    "  - can leave out if you want to start at beginning (`0`th index)\n",
    "- `stop`\n",
    "  - \"up-to\" this position\n",
    "  - _not included_ in the result\n",
    "  - can leave out if you want to include \"until the end\"\n",
    "- `step`\n",
    "  - optional, how to skip between items\n",
    "  - defaults to `1`\n"
   ]
  },
  {
   "cell_type": "markdown",
   "id": "ad6fdfb1",
   "metadata": {},
   "source": [
    "Play with `start`, `stop`, and `step` below to get a feel for how they behave\n"
   ]
  },
  {
   "cell_type": "code",
   "execution_count": null,
   "id": "03b3dff6",
   "metadata": {},
   "outputs": [],
   "source": [
    "names = [\"Eshin\", \"Emma\", \"Justin\", \"Aaron\", \"Jacob\", \"Jinwoo\"]\n",
    "start = 0\n",
    "stop = 2\n",
    "step = 1\n",
    "\n",
    "names[start:stop:step]"
   ]
  },
  {
   "cell_type": "markdown",
   "id": "af18fc9b",
   "metadata": {},
   "source": [
    "Some common slicing patterns you'll might look like:\n"
   ]
  },
  {
   "cell_type": "code",
   "execution_count": null,
   "id": "a4ecad6f",
   "metadata": {},
   "outputs": [],
   "source": [
    "# Get the first 3 items\n",
    "# Leaving out start = start at 0\n",
    "names[:3]"
   ]
  },
  {
   "cell_type": "code",
   "execution_count": null,
   "id": "0c0fdb6b",
   "metadata": {},
   "outputs": [],
   "source": [
    "# 3rd name until the end\n",
    "names[2:]"
   ]
  },
  {
   "cell_type": "code",
   "execution_count": null,
   "id": "8a60024c",
   "metadata": {},
   "outputs": [],
   "source": [
    "# Get the last 3 items\n",
    "names[-3:]\n",
    "\n",
    "# Take a moment to think/play around about how this works\n",
    "# In this case:\n",
    "# step = -3\n",
    "# stop = len(names) because we left it out\n",
    "# step = 1 because we left it out"
   ]
  },
  {
   "cell_type": "code",
   "execution_count": null,
   "id": "3dd82749",
   "metadata": {},
   "outputs": [],
   "source": [
    "# Reverse the list\n",
    "names[::-1]\n",
    "\n",
    "# This works because we're stepping through the list backwards!\n",
    "# start = 0\n",
    "# stop = len(names)\n",
    "# step = -1"
   ]
  },
  {
   "cell_type": "markdown",
   "id": "357b48c3",
   "metadata": {},
   "source": [
    "#### Methods\n",
    "\n",
    "So far we've been playing with _variables_ (e.g. `names`) and _functions_ (e.g. `len()`) as _separate_ \"things\" in Python.\n",
    "\n",
    "However, many objects actually have special functions that come \"pre-attached\" to them letting them alter that object somehow.  \n",
    "We refer to these functions as an object's **methods** and we refer to them using `.methodname()` syntax\n"
   ]
  },
  {
   "cell_type": "markdown",
   "id": "97cfc11f",
   "metadata": {},
   "source": [
    "Let's say we want to add another item to our `names` list _after_ creating it already. We can use the `.append` method to do just that!\n"
   ]
  },
  {
   "cell_type": "code",
   "execution_count": null,
   "id": "a1ea3e96",
   "metadata": {},
   "outputs": [],
   "source": [
    "# Before\n",
    "names"
   ]
  },
  {
   "cell_type": "code",
   "execution_count": null,
   "id": "74b156d9",
   "metadata": {},
   "outputs": [],
   "source": [
    "# Call method\n",
    "names.append(\"New Lab Member\")\n",
    "\n",
    "# After\n",
    "names"
   ]
  },
  {
   "cell_type": "markdown",
   "id": "dca1821c",
   "metadata": {},
   "source": [
    "Notice that we using `.append()` just like any other _function_ by passing in 1 or more _arguments_.  \n",
    "Unlike a regular function, however it doesn't _return_ anything and just modifies `names` directly!\n",
    "\n",
    "Let's look at another example of similarities and differences between _functions_ and _methods_\n",
    "\n",
    "Let's say we want to add _multiple_ new items to `names`. We could call `.append` once for each item, but that's annoying...\n",
    "\n",
    "So lists have another _method_ called `.extend` that expects the input to be list\n"
   ]
  },
  {
   "cell_type": "code",
   "execution_count": null,
   "id": "818f62c1",
   "metadata": {},
   "outputs": [],
   "source": [
    "names.extend([\"new name 1\", \"new name 2\", \"new name 3\"])\n",
    "names"
   ]
  },
  {
   "cell_type": "markdown",
   "id": "fd888586",
   "metadata": {},
   "source": [
    "We could achieve the same functionality by writing a _function_ instead\n"
   ]
  },
  {
   "cell_type": "code",
   "execution_count": null,
   "id": "41059c5e",
   "metadata": {},
   "outputs": [],
   "source": [
    "def extend(list_1, list_2):\n",
    "    return list_1 + list_2  # adding lists in Python combines them!\n",
    "\n",
    "\n",
    "combined = extend([\"Eshin\", \"Emma\", \"Justin\", \"Aaron\"], [\"Jacob\", \"Jinwoo\"])\n",
    "combined"
   ]
  },
  {
   "cell_type": "markdown",
   "id": "83f15921",
   "metadata": {},
   "source": [
    "Notice the similarities and differences:\n",
    "\n",
    "- both `.extend` and `extend` take arguments and create a combined list\n",
    "- because `.extend` is a method, i.e. \"belongs\" to `names` we only need to pass in the second list we want and `names` gets modified in-place\n",
    "- because `extend` is a function, it doesn't \"keep track\" of any lists and so we always need to pass in everything we want to combine\n",
    "\n",
    "You can see all the various methods that an object has in Python by typing `.` and checking out the scrollable auto-complete or pressing `cmd+.` if it doesn't show-up automatically\n",
    "\n",
    "Try finding a method that let's you sort the items in a list `alphabetically` and running it on `combined`\n"
   ]
  },
  {
   "cell_type": "code",
   "execution_count": null,
   "id": "55dab360",
   "metadata": {},
   "outputs": [],
   "source": [
    "# You code here"
   ]
  },
  {
   "cell_type": "markdown",
   "id": "6d4d56b9",
   "metadata": {},
   "source": [
    "Many of simpler variable types we met earlier also have a variety of helpful methods:\n"
   ]
  },
  {
   "cell_type": "code",
   "execution_count": null,
   "id": "768b8512",
   "metadata": {},
   "outputs": [],
   "source": [
    "# String methods\n",
    "species = \"chinstrap penguin\"\n",
    "species.upper()  # convert to uppercase\n",
    "species.capitalize()  # capitalize first letter\n",
    "species.split()  # split into words\n",
    "\n",
    "# Number methods\n",
    "score = 100\n",
    "score.is_integer()"
   ]
  },
  {
   "cell_type": "markdown",
   "id": "pc9mwledl7",
   "metadata": {},
   "source": [
    "### 3.2 Dictionaries\n",
    "\n",
    "The other most common way to store _multiple variables_ is to order them by a _key_ rather than position.\n",
    "\n",
    "In Python we can do this with a _dictionary_, which we can create and index using curly braces `{}`.\n",
    "\n",
    "Dictionaries store their entries using using `key : value` pairs, so we can use a `key` to index a `value`\n"
   ]
  },
  {
   "cell_type": "code",
   "execution_count": null,
   "id": "6mfwctcw4dj",
   "metadata": {},
   "outputs": [],
   "source": [
    "# Create a dictionary\n",
    "character = {\n",
    "    \"name\": \"Mickey\",\n",
    "    \"favorite_food\": \"cheese\",\n",
    "    \"age\": 391,\n",
    "    \"friends\": [\"Minny\", \"Goofy\"],\n",
    "}\n",
    "character"
   ]
  },
  {
   "cell_type": "markdown",
   "id": "f8b86b81",
   "metadata": {},
   "source": [
    "Notice that each _value_, e.g. `Mickey`, `cheese`, etc is associated with a _key_, e.g. `name`, `favorite_food`\n",
    "\n",
    "This allows to get specific values by referring to their _key_\n"
   ]
  },
  {
   "cell_type": "code",
   "execution_count": null,
   "id": "2bd1bda2",
   "metadata": {},
   "outputs": [],
   "source": [
    "character[\"name\"]\n",
    "\n",
    "character[\"favorite_food\"]"
   ]
  },
  {
   "cell_type": "markdown",
   "id": "fb8b58a4",
   "metadata": {},
   "source": [
    "This makes dictionaries different from lists, because values have no concept of \"position\"  \n",
    "The code below gives us an error because the `character` dictionary is searching for a _key_ named `0`, which doesn't exist!\n"
   ]
  },
  {
   "cell_type": "code",
   "execution_count": null,
   "id": "7f4e73b0",
   "metadata": {},
   "outputs": [],
   "source": [
    "# Try to get the \"first\" value of the dictionary\n",
    "character[0]"
   ]
  },
  {
   "cell_type": "markdown",
   "id": "ca4d1b0f",
   "metadata": {},
   "source": [
    "The only way to retrieve values from `character` is to use one of the valid _keys_  \n",
    "We can combine what we just learned about _methods_ to checkout the keys and values of `character`\n"
   ]
  },
  {
   "cell_type": "code",
   "execution_count": null,
   "id": "22eede33",
   "metadata": {},
   "outputs": [],
   "source": [
    "character.keys()\n",
    "character.values()"
   ]
  },
  {
   "cell_type": "markdown",
   "id": "0e918be7",
   "metadata": {},
   "source": [
    "Dictionaries are most useful when you want to store multiple variables together and be able to easily reference them by names that you control (_keys_).\n",
    "\n",
    "In other cases, lists are all you need!\n"
   ]
  },
  {
   "cell_type": "markdown",
   "id": "cytx16mhaud",
   "metadata": {},
   "source": [
    "### 3.3 Looping\n",
    "\n",
    "Now that we have a way to store _multiple_ variables using a _list_ or _dictionary_ we can use **looping** as a way to step through each item and perform some operation\n",
    "\n",
    "In Python we _iterate_ or \"loop\" over a variable that contains other variables using `for` loops\n",
    "Let's see an example combining what we learned about _methods_ to _grow_ an empty list with lowercase versions of the items in `penguins`\n"
   ]
  },
  {
   "cell_type": "code",
   "execution_count": null,
   "id": "qq3xce7nw08",
   "metadata": {},
   "outputs": [],
   "source": [
    "# Create list\n",
    "penguins = [\"Adelie\", \"Gentoo\", \"Chinstrap\"]\n",
    "\n",
    "# Setup an empty list to store our results\n",
    "penguins_lowercase = []\n",
    "\n",
    "# Loop through it\n",
    "for this_penguin in species:\n",
    "    # We indent code just like we do for if/elif/else\n",
    "\n",
    "    # Use the .lower method that all strings have\n",
    "    new_item = this_penguin.lower()\n",
    "\n",
    "    # Use the .append method to add the item to the list\n",
    "    penguins_lowercase.append(new_item)\n",
    "\n",
    "# Show result\n",
    "penguins_lowercase"
   ]
  },
  {
   "cell_type": "markdown",
   "id": "fe0eb4e4",
   "metadata": {},
   "source": [
    "In the code above, Python will repeat everything indented inside the `for` loop, setting the value of `this_penguin` to the next item in the list after it's done.  \n",
    "When there are no more items, the `for` loop ends and the code below it runs.\n"
   ]
  },
  {
   "cell_type": "markdown",
   "id": "0374c212",
   "metadata": {},
   "source": [
    "To loop over dictionaries we can use the `.items()` method which returns key, value _pairs_\n"
   ]
  },
  {
   "cell_type": "code",
   "execution_count": null,
   "id": "d87b60e5",
   "metadata": {},
   "outputs": [],
   "source": [
    "for key, value in character.items():\n",
    "    print(\"The key is:\", key)\n",
    "    print(\"The value is: \", value)"
   ]
  },
  {
   "cell_type": "markdown",
   "id": "cb497c47",
   "metadata": {},
   "source": [
    "Let's take a look at `character.items()` more carefully to understand how we can loop over multiple things _at the same time_  \n",
    "Notice that it has a type called `dict_items` that looks just like a list `[]` where each item is `('key', 'value')`\n",
    "\n",
    "The pattern we used above: `for key, value`  \n",
    "separately sets `key` to the first variable in each pair, and `value` to the second variable\n"
   ]
  },
  {
   "cell_type": "code",
   "execution_count": null,
   "id": "27aa4384",
   "metadata": {},
   "outputs": [],
   "source": [
    "items = character.items()\n",
    "items"
   ]
  },
  {
   "cell_type": "markdown",
   "id": "0b347407",
   "metadata": {},
   "source": [
    "While the `.items()` method is specific to dictionaries we can use this same pattern `for item_list1, item_list2`  \n",
    "along with the the built-in `zip()` function to generally loop over multiple things at the same time\n",
    "\n",
    "Notice how `zipped` looks like `items` from above, organized as `score, age` pairs\n"
   ]
  },
  {
   "cell_type": "code",
   "execution_count": null,
   "id": "7f9271dd",
   "metadata": {},
   "outputs": [],
   "source": [
    "subject_scores = [76, 88, 100]\n",
    "subject_ages = [25, 18, 65]\n",
    "\n",
    "# We pass the result of zip() to the list() function so we can view it\n",
    "# for doesn't need us to do this as we'll see below\n",
    "zipped = list(zip(subject_scores, subject_ages))\n",
    "zipped"
   ]
  },
  {
   "cell_type": "markdown",
   "id": "dec83c2c",
   "metadata": {},
   "source": [
    "Meaning we can loop over them together:\n"
   ]
  },
  {
   "cell_type": "code",
   "execution_count": null,
   "id": "0973a902",
   "metadata": {},
   "outputs": [],
   "source": [
    "# for can understand zip() without list()\n",
    "for score, age in zip(subject_scores, subject_ages):\n",
    "    print(\"This score: \", score)\n",
    "    print(\"This age: \", age)"
   ]
  },
  {
   "cell_type": "markdown",
   "id": "33df80a3",
   "metadata": {},
   "source": [
    "Of course we can do whatever we'd like _inside_ a `for` loop. A common one is combining it with some _logic_:\n"
   ]
  },
  {
   "cell_type": "code",
   "execution_count": null,
   "id": "58x02d4s97",
   "metadata": {},
   "outputs": [],
   "source": [
    "# Loop with conditions\n",
    "weights = [3750, 3800, 3250, 4500, 3650]\n",
    "\n",
    "# Store how many heavy penguins we have\n",
    "heavy_count = 0\n",
    "\n",
    "# Loop over weights\n",
    "for weight in weights:\n",
    "    # Check this weight\n",
    "    if weight > 4000:\n",
    "        # Updated the value of heavy_count\n",
    "        heavy_count = heavy_count + 1\n",
    "\n",
    "# strings prefixed with f allow us to put Python code inside of {} when we print them\n",
    "print(f\"Found {heavy_count} heavy penguins\")"
   ]
  },
  {
   "cell_type": "markdown",
   "id": "122307ad",
   "metadata": {},
   "source": [
    "Another one is using `break` and `continue` to \\_break_out of `for`-loop early without running through all the items or to skip processing an item and move to the next item\n"
   ]
  },
  {
   "cell_type": "code",
   "execution_count": null,
   "id": "wo5hg65miz",
   "metadata": {},
   "outputs": [],
   "source": [
    "# Range is a function that creates a list from 0 to N\n",
    "# in this case 0-9\n",
    "for i in range(10):\n",
    "    if i == 5:\n",
    "        break  # stop at 5\n",
    "    print(i)\n",
    "\n",
    "print(\"---\")\n",
    "\n",
    "# list of 0-4\n",
    "for i in range(5):\n",
    "    if i == 2:\n",
    "        continue  # skip 2\n",
    "    print(i)"
   ]
  },
  {
   "cell_type": "markdown",
   "id": "fad92d36",
   "metadata": {},
   "source": [
    "## Recap\n",
    "\n",
    "Try using the next few cells to play the with concepts you've learned so far:\n",
    "\n",
    "- creating and working with lists\n",
    "- crating and working with dictionaries\n",
    "- writing `for` loops\n"
   ]
  },
  {
   "cell_type": "code",
   "execution_count": null,
   "id": "d162c5e2",
   "metadata": {},
   "outputs": [],
   "source": [
    "# You code here"
   ]
  },
  {
   "cell_type": "code",
   "execution_count": null,
   "id": "9253688e",
   "metadata": {},
   "outputs": [],
   "source": [
    "# You code here"
   ]
  },
  {
   "cell_type": "code",
   "execution_count": null,
   "id": "39232a67",
   "metadata": {},
   "outputs": [],
   "source": [
    "# You code here"
   ]
  },
  {
   "cell_type": "markdown",
   "id": "t4prijjtojr",
   "metadata": {},
   "source": [
    "## 4. Getting help, handling errors, and using libraries\n"
   ]
  },
  {
   "cell_type": "markdown",
   "id": "94451272",
   "metadata": {},
   "source": [
    "### 4.1 Getting help\n",
    "\n",
    "These easiest way to get help from write inside a notebook is to add the special `?` operator to the end of any _function_ or _method_  \n",
    "This will pull-up the \"doc-string\" telling you about arguments, outputs, and other information\n"
   ]
  },
  {
   "cell_type": "code",
   "execution_count": null,
   "id": "7cd72c31",
   "metadata": {},
   "outputs": [],
   "source": [
    "# Look up a function\n",
    "len?"
   ]
  },
  {
   "cell_type": "code",
   "execution_count": null,
   "id": "14752e1f",
   "metadata": {},
   "outputs": [],
   "source": [
    "# Look up the append method on our names list\n",
    "names.append?"
   ]
  },
  {
   "cell_type": "markdown",
   "id": "e4e29eb1",
   "metadata": {},
   "source": [
    "### 4.2 Understanding errors\n",
    "\n",
    "Python tries to be pretty helpful about telling you _what_ went wrong and _where_  \n",
    "But initially it can be challenging and intidimating to understand these messages or \"stack-trace\"\n",
    "\n",
    "Let's try to understand one we saw earlier: trying to get a value from a dictionary using a numeric position instead of a key\n"
   ]
  },
  {
   "cell_type": "code",
   "execution_count": null,
   "id": "36d902f0",
   "metadata": {},
   "outputs": [],
   "source": [
    "character[0]"
   ]
  },
  {
   "cell_type": "markdown",
   "id": "d4a146e5",
   "metadata": {},
   "source": [
    "In the output you can see a few important pieces:\n",
    "\n",
    "- the _line number_ of the code the trigger the error (line 1)\n",
    "- the exact _type_ of error triggered (`KeyError`)\n",
    "- the error _message_ printed after the error type (`0`)\n",
    "\n",
    "Here's a more complicated example where we make the _same_ error, but it's buried within more code;\n"
   ]
  },
  {
   "cell_type": "code",
   "execution_count": null,
   "id": "e9ca6678",
   "metadata": {},
   "outputs": [],
   "source": [
    "def get_value(key):\n",
    "    return character[key]\n",
    "\n",
    "\n",
    "for i in range(10):\n",
    "    value = get_value(i)\n",
    "    print(value)"
   ]
  },
  {
   "cell_type": "markdown",
   "id": "42a68173",
   "metadata": {},
   "source": [
    "No we see more output, but we can still identify the same important pieces:\n",
    "\n",
    "- _line number_ we now have 2 locations:\n",
    "  - line 5 inside the `for loop` because we call `get_value(i)`\n",
    "  - line 2 inside `get_value` which because `character[key]` is using a number for `key`\n",
    "- _type_ `KeyError` because `0` isn't a valid key\n",
    "- _message_ printed after the error type (`0`)\n",
    "\n",
    "In Python we call error outputs a \"stack-trace\" because Python is _tracing_ the error through the layers of code for us!  \n",
    "Line 5 is where Python crashed, but because that line calls a function, Python can point to the exact problematic line (2) _within_ the function.\n"
   ]
  },
  {
   "cell_type": "markdown",
   "id": "301430bc",
   "metadata": {},
   "source": [
    "There are many other _types_ of errors you can produce and you'll likely see many of the following:\n"
   ]
  },
  {
   "cell_type": "code",
   "execution_count": null,
   "id": "8671aa92",
   "metadata": {},
   "outputs": [],
   "source": [
    "# TypeError\n",
    "# Using + with mixed types doesn't make sense!\n",
    "1 + \"name\""
   ]
  },
  {
   "cell_type": "code",
   "execution_count": null,
   "id": "333985b5",
   "metadata": {},
   "outputs": [],
   "source": [
    "# IndexError\n",
    "letters = [\"a\", \"b\"]\n",
    "\n",
    "# The 3rd value doesn't exist!\n",
    "# The index/position is beyond the length of the list!\n",
    "letters[2]"
   ]
  },
  {
   "cell_type": "code",
   "execution_count": null,
   "id": "2e7ffcc2",
   "metadata": {},
   "outputs": [],
   "source": [
    "# SyntaxError\n",
    "# We're missing a \":\" after names\n",
    "# These basically typos that are easiest to spot because you'll see squigglies showing you\n",
    "if names\n",
    "    print(\"We have names\")"
   ]
  },
  {
   "cell_type": "code",
   "execution_count": null,
   "id": "a8a0dfaa",
   "metadata": {},
   "outputs": [],
   "source": [
    "# NameError\n",
    "# We haven't created an x variable!\n",
    "x"
   ]
  },
  {
   "cell_type": "markdown",
   "id": "65868178",
   "metadata": {},
   "source": [
    "If you can't easily figure out what the issue is from the stack-trace that Python gives you, try looking it up on google or chatgpt.  \n",
    "Both the internet and LLMs are _very_ good at giving you help for common errors because so many people have encountered them before!\n",
    "\n",
    "You can also check out this brief [guide on debugging errors](https://stat-intuitions.com/lectures/wk2/02_Debugging.html) for additional resources\n"
   ]
  },
  {
   "cell_type": "markdown",
   "id": "0eg2f9w14vy",
   "metadata": {},
   "source": [
    "---\n",
    "\n",
    "## Next Steps\n",
    "\n",
    "Congratulations! You've covered the absolute essentials to start your Python journey.\n",
    "\n",
    "Here are a few additional to continue learning:\n",
    "\n",
    "- [Learn Python Online (basics)](https://www.learnpython.org/)\n",
    "- [Introduction to Programming (Lesson)](https://dartbrains.org/content/Introduction_to_Programming.html) from DartBrains fMRI course\n",
    "- [Introduction to Programming for Psychological Scientists](https://github.com/ContextLab/cs-for-psych) full course\n",
    "- [Intro to Python Lesson from Eshin's grad-stats class](https://stat-intuitions.com/labs/1/python.html)\n",
    "- [Common data analyis libraries from Eshin's grad-stats class](https://stat-intuitions.com/pages/topics.html#python-centric-notebooks)\n"
   ]
  }
 ],
 "metadata": {
  "kernelspec": {
   "display_name": "Python (fundamentals-workshop)",
   "language": "python",
   "name": "fundamentals-workshop-py"
  },
  "language_info": {
   "codemirror_mode": {
    "name": "ipython",
    "version": 3
   },
   "file_extension": ".py",
   "mimetype": "text/x-python",
   "name": "python",
   "nbconvert_exporter": "python",
   "pygments_lexer": "ipython3",
   "version": "3.13.7"
  }
 },
 "nbformat": 4,
 "nbformat_minor": 5
}
